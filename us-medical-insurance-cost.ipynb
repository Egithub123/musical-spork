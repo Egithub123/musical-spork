{
 "cells": [
  {
   "cell_type": "markdown",
   "metadata": {},
   "source": [
    "# U.S. Medical Insurance Costs"
   ]
  },
  {
   "cell_type": "code",
   "execution_count": 369,
   "metadata": {},
   "outputs": [],
   "source": [
    "import csv"
   ]
  },
  {
   "cell_type": "code",
   "execution_count": 370,
   "metadata": {},
   "outputs": [],
   "source": [
    "insurance_costs = {}\n",
    "file =  open('insurance.csv')\n",
    "insurance_data = csv.DictReader(file)\n",
    "insurance_costs = list(insurance_data)\n",
    "file.close() \n",
    " \n"
   ]
  },
  {
   "cell_type": "markdown",
   "metadata": {},
   "source": [
    "\n",
    "A general description of the dataset"
   ]
  },
  {
   "cell_type": "code",
   "execution_count": 371,
   "metadata": {},
   "outputs": [],
   "source": [
    "def descriptions() :\n",
    "    total_cost = 0\n",
    "    number_dataset = len(insurance_costs)\n",
    "    total_age = 0\n",
    "    ages = []\n",
    "    charges = []\n",
    "    for item in insurance_costs:\n",
    "        ages.append(item['age'])\n",
    "        charges.append(float(item['charges']))\n",
    "        total_cost += float(item['charges'])\n",
    "        total_age += int(item['age'])\n",
    "    ages.sort()\n",
    "    charges.sort()\n",
    "    avarge_cost = total_cost/number_dataset\n",
    "    average_age =total_age/number_dataset\n",
    "    print('The dataset contains data ' + str(number_dataset) + \" people's\")\n",
    "    print('aged ' + str(ages[0]) + ' to ' + str(ages[-1]) + '.')\n",
    "    print('Average age : {:,.2f}'.format(average_age))\n",
    "    print('Averge insurance charges are:  {:,.2f}'.format(avarge_cost) )\n",
    "    print('Charges from: {:,.2f}'.format(charges[0] ))\n",
    "    print('          to: {:,.2f}'.format(charges[-1]) )\n",
    "   \n",
    "   "
   ]
  },
  {
   "cell_type": "code",
   "execution_count": 372,
   "metadata": {},
   "outputs": [
    {
     "name": "stdout",
     "output_type": "stream",
     "text": [
      "The dataset contains data 1338 people's\n",
      "aged 18 to 64.\n",
      "Average age : 39.21\n",
      "Averge insurance charges are:  13,270.42\n",
      "Charges from: 1,121.87\n",
      "          to: 63,770.43\n"
     ]
    }
   ],
   "source": [
    "descriptions()"
   ]
  },
  {
   "cell_type": "markdown",
   "metadata": {},
   "source": [
    "\n",
    "Participation women and men in dataset\n"
   ]
  },
  {
   "cell_type": "code",
   "execution_count": 373,
   "metadata": {},
   "outputs": [],
   "source": [
    "def sex_in_dataset():\n",
    "    women = {'number': 0, 'cost': 0}\n",
    "    men = {'number': 0, 'cost': 0}\n",
    "\n",
    "    for item in insurance_costs:\n",
    "        if item['sex'] == 'female':\n",
    "            women['number'] += 1\n",
    "            women['cost'] += float(item['charges'])\n",
    "        else:\n",
    "            men['number'] += 1\n",
    "            men['cost'] += float(item['charges'])\n",
    "    average_cost_women = int(women['cost']/women['number'])\n",
    "    average_cost_men = men['cost']/men['number']\n",
    "    w1 = 'The dataset contains data: ' \n",
    "    w2 =  str(women['number']) + ' women with average insurance charges  {:,.2f}  $'.format(average_cost_women)\n",
    "    w3 = str(men['number']) + ' men with average insurance charges {:,.2f} $'.format(average_cost_men)\n",
    "    print(w1)\n",
    "    print(w2)\n",
    "    print(w3)\n"
   ]
  },
  {
   "cell_type": "code",
   "execution_count": 374,
   "metadata": {},
   "outputs": [
    {
     "name": "stdout",
     "output_type": "stream",
     "text": [
      "The dataset contains data: \n",
      "662 women with average insurance charges  12,569.00  $\n",
      "676 men with average insurance charges 13,956.75 $\n"
     ]
    }
   ],
   "source": [
    "sex_in_dataset()"
   ]
  },
  {
   "cell_type": "markdown",
   "metadata": {},
   "source": [
    "\n",
    "Splitting the dataset into regions\n"
   ]
  },
  {
   "cell_type": "code",
   "execution_count": 375,
   "metadata": {
    "scrolled": true
   },
   "outputs": [],
   "source": [
    "def regions_in_dataset():\n",
    "    regions = []\n",
    "    numbers_of_regions = []\n",
    "    charges_in_regions = []\n",
    "    for item in insurance_costs:\n",
    "        if not (item['region'] in regions):\n",
    "            regions.append(item['region'])\n",
    "            charges_in_regions.append(0)\n",
    "            numbers_of_regions.append(0)\n",
    "        ind = regions.index(item['region'])\n",
    "        numbers_of_regions[ind] += 1\n",
    "        charges_in_regions[ind] += float(item['charges'])\n",
    "    for i in range(len(regions)):\n",
    "        print('Region: ' + regions[i] + ' Number of individuals: '+ str(numbers_of_regions[i])+ ' Average insurance charges: {:,.2f} $' .format(charges_in_regions[i]/numbers_of_regions[i]))\n"
   ]
  },
  {
   "cell_type": "code",
   "execution_count": 376,
   "metadata": {},
   "outputs": [
    {
     "name": "stdout",
     "output_type": "stream",
     "text": [
      "Region: southwest Number of individuals: 325 Average insurance charges: 12,346.94 $\n",
      "Region: southeast Number of individuals: 364 Average insurance charges: 14,735.41 $\n",
      "Region: northwest Number of individuals: 325 Average insurance charges: 12,417.58 $\n",
      "Region: northeast Number of individuals: 324 Average insurance charges: 13,406.38 $\n"
     ]
    }
   ],
   "source": [
    "regions_in_dataset()"
   ]
  },
  {
   "cell_type": "markdown",
   "metadata": {},
   "source": [
    "\n",
    "The impact of smoking on charges\n"
   ]
  },
  {
   "cell_type": "code",
   "execution_count": 377,
   "metadata": {},
   "outputs": [],
   "source": [
    "def impact_of_smoking(sex):\n",
    "    costs = {'smoker':{'number': 0.0, 'costs': 0.0}, 'not_smoker': {'number': 0.0, 'costs': 0.0}}\n",
    "   \n",
    "    for item in insurance_costs:\n",
    "        if item['sex'] == sex:\n",
    "            if item['smoker'] == 'yes':\n",
    "                costs['smoker']['number'] += 1\n",
    "                costs['smoker']['costs'] += float(item['charges'])\n",
    "            else:\n",
    "                costs['not_smoker']['number'] += 1\n",
    "                costs['not_smoker']['costs'] += float(item['charges'])\n",
    "    if costs['not_smoker']['number'] != 0:\n",
    "        average_not_smoker = costs['not_smoker']['costs']  / costs['not_smoker']['number']\n",
    "    else:\n",
    "        average_not_smoker = 0\n",
    "        \n",
    "    if costs['smoker']['number']  != 0:\n",
    "        average_smoker = costs['smoker']['costs']  / costs['smoker']['number']\n",
    "    else:\n",
    "        average_smoker = 0\n",
    "        \n",
    "    print('')\n",
    "    print('sex: '+ sex )\n",
    "    print('Average cost for smokers: {:,.2f} $' .format(average_smoker) + ' number: ' + str(costs['smoker']['number']))\n",
    "    print('Average cost for non-smokers: {:,.2f} $'.format(average_not_smoker) + ' number: ' + str(costs['not_smoker']['number']))\n",
    "     "
   ]
  },
  {
   "cell_type": "code",
   "execution_count": 378,
   "metadata": {},
   "outputs": [
    {
     "name": "stdout",
     "output_type": "stream",
     "text": [
      "\n",
      "sex: male\n",
      "Average cost for smokers: 33,042.01 $ number: 159.0\n",
      "Average cost for non-smokers: 8,087.20 $ number: 517.0\n",
      "\n",
      "sex: female\n",
      "Average cost for smokers: 30,679.00 $ number: 115.0\n",
      "Average cost for non-smokers: 8,762.30 $ number: 547.0\n"
     ]
    }
   ],
   "source": [
    "impact_of_smoking('male')\n",
    "impact_of_smoking('female')"
   ]
  },
  {
   "cell_type": "markdown",
   "metadata": {},
   "source": [
    "\n",
    "The impact of bmi index on charges\n",
    "for no smoking people \n",
    "index bmi divided into ranges 0-20, 21-30, 31-40, > 40"
   ]
  },
  {
   "cell_type": "code",
   "execution_count": 379,
   "metadata": {},
   "outputs": [],
   "source": [
    "def impact_of_bmi(sex):\n",
    "    costs = { 0 : {'number': 0, 'cost': 0.0},\n",
    "              1 : {'number': 0, 'cost': 0.0},\n",
    "              2 : {'number': 0, 'cost': 0.0},\n",
    "              3 : {'number': 0, 'cost': 0.0}\n",
    "            }\n",
    "    for item in insurance_costs:\n",
    "        if item['sex'] == sex  and item['smoker'] == 'no':\n",
    "            bmi = float(item['bmi'])\n",
    "            if bmi < 20:\n",
    "                ind = 0\n",
    "            elif bmi >= 20 and bmi <= 30:\n",
    "                ind = 1\n",
    "            elif bmi > 30 and bmi <= 40:\n",
    "                ind = 2\n",
    "            elif bmi > 40:\n",
    "                ind = 3\n",
    "            costs[ind] = {'number': costs[ind]['number'] + 1 ,'cost': costs[ind]['cost']+float(item['charges'])}  \n",
    "    print('')\n",
    "    for key,value in costs.items():\n",
    "        average_cost = value['cost']/value['number']\n",
    "        if key == 0:\n",
    "            print('For bim < 20 average charges are: {:,.2f} $'.format(average_cost) )\n",
    "        elif key == 1 :\n",
    "            print('For bmi 21-30 average charges are: {:,.2f} $'.format(average_cost) )\n",
    "        elif key == 2:\n",
    "            print('For bmi 31-40 average charges are: {:,.2f} $'.format(average_cost) )\n",
    "        else:\n",
    "            print('For bmi > 40 average charges are: {:,.2f} $'.format(average_cost) )\n",
    "    print('for no smoking, sex: ' + sex )            \n",
    "        "
   ]
  },
  {
   "cell_type": "code",
   "execution_count": 380,
   "metadata": {},
   "outputs": [
    {
     "name": "stdout",
     "output_type": "stream",
     "text": [
      "\n",
      "For bim < 20 average charges are: 5,998.24 $\n",
      "For bmi 21-30 average charges are: 8,434.98 $\n",
      "For bmi 31-40 average charges are: 9,276.58 $\n",
      "For bmi > 40 average charges are: 8,765.53 $\n",
      "for no smoking, sex: female\n",
      "\n",
      "For bim < 20 average charges are: 6,278.18 $\n",
      "For bmi 21-30 average charges are: 7,710.11 $\n",
      "For bmi 31-40 average charges are: 8,612.58 $\n",
      "For bmi > 40 average charges are: 7,657.14 $\n",
      "for no smoking, sex: male\n"
     ]
    }
   ],
   "source": [
    "impact_of_bmi('female')\n",
    "impact_of_bmi('male')"
   ]
  },
  {
   "cell_type": "code",
   "execution_count": null,
   "metadata": {},
   "outputs": [],
   "source": []
  }
 ],
 "metadata": {
  "kernelspec": {
   "display_name": "Python 3 (ipykernel)",
   "language": "python",
   "name": "python3"
  },
  "language_info": {
   "codemirror_mode": {
    "name": "ipython",
    "version": 3
   },
   "file_extension": ".py",
   "mimetype": "text/x-python",
   "name": "python",
   "nbconvert_exporter": "python",
   "pygments_lexer": "ipython3",
   "version": "3.9.13"
  }
 },
 "nbformat": 4,
 "nbformat_minor": 4
}
