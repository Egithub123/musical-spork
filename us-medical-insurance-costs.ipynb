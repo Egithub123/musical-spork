{
 "cells": [
  {
   "cell_type": "markdown",
   "metadata": {},
   "source": [
    "# U.S. Medical Insurance Costs"
   ]
  },
  {
   "cell_type": "code",
   "execution_count": 36,
   "metadata": {},
   "outputs": [],
   "source": [
    "import csv"
   ]
  },
  {
   "cell_type": "code",
   "execution_count": 37,
   "metadata": {},
   "outputs": [],
   "source": [
    "insurance_costs = {}\n",
    "file =  open('insurance.csv')\n",
    "insurance_data = csv.DictReader(file)\n",
    "insurance_costs = list(insurance_data)\n",
    "file.close() \n",
    " \n"
   ]
  },
  {
   "cell_type": "markdown",
   "metadata": {},
   "source": [
    "#        A general description of the dataset"
   ]
  },
  {
   "cell_type": "code",
   "execution_count": 38,
   "metadata": {},
   "outputs": [
    {
     "name": "stdout",
     "output_type": "stream",
     "text": [
      "The dataset contains data 1338 people's\n",
      "aged 18 to 64.\n",
      "Their averge insurance charges are:  13,270.42\n"
     ]
    }
   ],
   "source": [
    " \n",
    "first_age = 200\n",
    "last_age = 0\n",
    "total_cost = 0\n",
    "number_dataset = 0\n",
    "for item in insurance_costs:\n",
    "    age = int(item['age'])\n",
    "    if age < first_age:\n",
    "        first_age = age\n",
    "    elif age > last_age:\n",
    "        last_age = age\n",
    "    total_cost += float(item['charges'])\n",
    "    number_dataset += 1\n",
    "avarge_cost = total_cost/number_dataset\n",
    "w1 = 'The dataset contains data ' + str(number_dataset) + \" people's\"\n",
    "w2 = 'aged ' + str(first_age) + ' to ' + str(last_age) + '.'\n",
    "w3 = 'Their averge insurance charges are:  {:,.2f}'.format(avarge_cost) \n",
    "print(w1)\n",
    "print(w2)\n",
    "print(w3)\n",
    "    "
   ]
  },
  {
   "cell_type": "markdown",
   "metadata": {},
   "source": [
    "\n",
    "Participation women and men in dataset\n"
   ]
  },
  {
   "cell_type": "code",
   "execution_count": 39,
   "metadata": {},
   "outputs": [
    {
     "name": "stdout",
     "output_type": "stream",
     "text": [
      "The dataset contains data: \n",
      "662 women with average insurance charges  12,569.00  $\n",
      "676 men with average insurance charges 13,956.75 $\n"
     ]
    }
   ],
   "source": [
    "women = {'number': 0, 'cost': 0}\n",
    "men = {'number': 0, 'cost': 0}\n",
    "\n",
    "for item in insurance_costs:\n",
    "    if item['sex'] == 'female':\n",
    "        women['number'] += 1\n",
    "        women['cost'] += float(item['charges'])\n",
    "    else:\n",
    "        men['number'] += 1\n",
    "        men['cost'] += float(item['charges'])\n",
    "average_cost_women = int(women['cost']/women['number'])\n",
    "average_cost_men = men['cost']/men['number']\n",
    "w1 = 'The dataset contains data: ' \n",
    "w2 =  str(women['number']) + ' women with average insurance charges  {:,.2f}  $'.format(average_cost_women)\n",
    "w3 = str(men['number']) + ' men with average insurance charges {:,.2f} $'.format(average_cost_men)\n",
    "print(w1)\n",
    "print(w2)\n",
    "print(w3)\n"
   ]
  },
  {
   "cell_type": "markdown",
   "metadata": {},
   "source": [
    "\n",
    "Splitting the dataset into regions\n"
   ]
  },
  {
   "cell_type": "code",
   "execution_count": 40,
   "metadata": {
    "scrolled": true
   },
   "outputs": [
    {
     "name": "stdout",
     "output_type": "stream",
     "text": [
      "Region: southwest Number of individuals: 325 Average insurance charges: 12,346.94 $\n",
      "Region: southeast Number of individuals: 364 Average insurance charges: 14,735.41 $\n",
      "Region: northwest Number of individuals: 325 Average insurance charges: 12,417.58 $\n",
      "Region: northeast Number of individuals: 324 Average insurance charges: 13,406.38 $\n"
     ]
    }
   ],
   "source": [
    "\n",
    "    regions = []\n",
    "    numbers_of_regions = []\n",
    "    charges_in_regions = []\n",
    "    for item in insurance_costs:\n",
    "        if not (item['region'] in regions):\n",
    "            regions.append(item['region'])\n",
    "            charges_in_regions.append(0)\n",
    "            numbers_of_regions.append(0)\n",
    "        ind = regions.index(item['region'])\n",
    "        numbers_of_regions[ind] += 1\n",
    "        charges_in_regions[ind] += float(item['charges'])\n",
    "    for i in range(len(regions)):\n",
    "        print('Region: ' + regions[i] + ' Number of individuals: '+ str(numbers_of_regions[i])+ ' Average insurance charges: {:,.2f} $' .format(charges_in_regions[i]/numbers_of_regions[i]))\n"
   ]
  },
  {
   "cell_type": "markdown",
   "metadata": {},
   "source": [
    "\n",
    "The impact of smoking on charges\n",
    "Selected men aged 30 - 50 with 2 children"
   ]
  },
  {
   "cell_type": "code",
   "execution_count": 41,
   "metadata": {},
   "outputs": [
    {
     "name": "stdout",
     "output_type": "stream",
     "text": [
      "Average cost for smokers: 32,172.81 $\n",
      "Average cost for non-smokers: 8,996.89 $\n",
      "Selected men aged 30 - 50 with 2 children\n"
     ]
    }
   ],
   "source": [
    "\n",
    "costs = {'smoker':{'number': 0.0, 'costs': 0.0}, 'not_smoker': {'number': 0.0, 'costs': 0.0}}\n",
    "\n",
    "for item in insurance_costs:\n",
    "    if item['sex'] == 'male' and int(item['age']) >= 30 and int(item['age']) <= 50 and item['children']=='2':\n",
    "        if item['smoker'] == 'yes':\n",
    "            costs['smoker']['number'] += 1\n",
    "            costs['smoker']['costs'] += float(item['charges'])\n",
    "        else:\n",
    "            costs['not_smoker']['number'] += 1\n",
    "            costs['not_smoker']['costs'] += float(item['charges'])\n",
    "avarge_not_smoker = costs['not_smoker']['costs']  / costs['not_smoker']['number']\n",
    "avarge_smoker = costs['smoker']['costs']  / costs['smoker']['number']\n",
    "print('Average cost for smokers: {:,.2f} $' .format(avarge_smoker))\n",
    "print('Average cost for non-smokers: {:,.2f} $'.format(avarge_not_smoker))\n",
    "print('Selected men aged 30 - 50 with 2 children')       "
   ]
  },
  {
   "cell_type": "markdown",
   "metadata": {},
   "source": [
    "\n",
    "The impact of bmi index\n",
    "for no smoking women \n",
    "index bmi divided into ranges 0-20, 21-30, 31-40, > 40"
   ]
  },
  {
   "cell_type": "code",
   "execution_count": 42,
   "metadata": {},
   "outputs": [
    {
     "name": "stdout",
     "output_type": "stream",
     "text": [
      "For bmi 21-30 average charges are: 8,434.98 $\n",
      "For bmi 31-40 average charges are: 9,276.58 $\n",
      "For bmi > 40 average charges are: 8,765.53 $\n",
      "For bim < 20 average charges are: 5,998.24 $\n",
      "for no smoking women \n"
     ]
    }
   ],
   "source": [
    "\n",
    "costs = {}\n",
    "for item in insurance_costs:\n",
    "    if item['sex'] == 'female' and item['smoker'] == 'no':\n",
    "        bmi = float(item['bmi'])\n",
    "        if bmi < 20:\n",
    "            ind = 0\n",
    "        elif bmi >= 20 and bmi <= 30:\n",
    "            ind = 1\n",
    "        elif bmi > 30 and bmi <= 40:\n",
    "            ind = 2\n",
    "        elif bmi > 40:\n",
    "            ind = 3\n",
    "        if ind in costs:\n",
    "            costs[ind]['number'] =  costs[ind]['number'] + 1\n",
    "            costs[ind]['cost']  = costs[ind]['cost'] + float(item['charges'])\n",
    "        else:\n",
    "            costs[ind] = {'number': 1,'cost': float(item['charges'])}\n",
    "for key,value in costs.items():\n",
    "    average_cost = value['cost']/value['number']\n",
    "    if key == 0:\n",
    "        print('For bim < 20 average charges are: {:,.2f} $'.format(average_cost) )\n",
    "    elif key == 1 :\n",
    "        print('For bmi 21-30 average charges are: {:,.2f} $'.format(average_cost) )\n",
    "    elif key == 2:\n",
    "        print('For bmi 31-40 average charges are: {:,.2f} $'.format(average_cost) )\n",
    "    else:\n",
    "        print('For bmi > 40 average charges are: {:,.2f} $'.format(average_cost) )\n",
    "print('for no smoking women ')            \n",
    "        "
   ]
  },
  {
   "cell_type": "code",
   "execution_count": null,
   "metadata": {},
   "outputs": [],
   "source": []
  },
  {
   "cell_type": "code",
   "execution_count": null,
   "metadata": {},
   "outputs": [],
   "source": []
  },
  {
   "cell_type": "code",
   "execution_count": null,
   "metadata": {},
   "outputs": [],
   "source": []
  },
  {
   "cell_type": "code",
   "execution_count": null,
   "metadata": {},
   "outputs": [],
   "source": []
  },
  {
   "cell_type": "code",
   "execution_count": null,
   "metadata": {},
   "outputs": [],
   "source": []
  }
 ],
 "metadata": {
  "kernelspec": {
   "display_name": "Python 3 (ipykernel)",
   "language": "python",
   "name": "python3"
  },
  "language_info": {
   "codemirror_mode": {
    "name": "ipython",
    "version": 3
   },
   "file_extension": ".py",
   "mimetype": "text/x-python",
   "name": "python",
   "nbconvert_exporter": "python",
   "pygments_lexer": "ipython3",
   "version": "3.9.13"
  }
 },
 "nbformat": 4,
 "nbformat_minor": 4
}
